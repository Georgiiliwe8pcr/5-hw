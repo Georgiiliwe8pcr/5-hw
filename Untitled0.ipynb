{
  "nbformat": 4,
  "nbformat_minor": 0,
  "metadata": {
    "colab": {
      "provenance": [],
      "authorship_tag": "ABX9TyNQc4MJD6cdNp4BGmLugZmW",
      "include_colab_link": true
    },
    "kernelspec": {
      "name": "python3",
      "display_name": "Python 3"
    },
    "language_info": {
      "name": "python"
    }
  },
  "cells": [
    {
      "cell_type": "markdown",
      "metadata": {
        "id": "view-in-github",
        "colab_type": "text"
      },
      "source": [
        "<a href=\"https://colab.research.google.com/github/Georgiiliwe8pcr/5-hw/blob/main/Untitled0.ipynb\" target=\"_parent\"><img src=\"https://colab.research.google.com/assets/colab-badge.svg\" alt=\"Open In Colab\"/></a>"
      ]
    },
    {
      "cell_type": "code",
      "execution_count": null,
      "metadata": {
        "id": "Se_rF-_5a2bO"
      },
      "outputs": [],
      "source": [
        "import pandas as pd\n",
        "import numpy as np\n",
        "import matplotlib.pyplot as plt\n",
        "import seaborn as sns\n",
        "\n",
        "# Завантаження таблиць із сайту Вікіпедії\n",
        "url = \"https://uk.wikipedia.org/wiki/Населення_України\"\n",
        "tables = pd.read_html(url)\n",
        "\n",
        "# Перегляд списку таблиць для вибору потрібної\n",
        "for i, table in enumerate(tables):\n",
        "    print(f\"Таблиця {i}:\")\n",
        "    print(table.head())\n",
        "\n",
        "# Вибір таблиці з інформацією про народжуваність (припустимо, що це таблиця з індексом 1)\n",
        "df = tables[1]\n",
        "\n",
        "# Перейменування колонок для зручності\n",
        "df.columns = [\"Регіон\", \"2014\", \"2015\", \"2016\", \"2017\", \"2018\", \"2019\"]\n",
        "\n",
        "# Замінюємо символи '—' на NaN\n",
        "df.replace(\"—\", np.nan, inplace=True)\n",
        "\n",
        "# Видалення рядків із пропущеними даними у всіх стовпцях\n",
        "df.dropna(how='all', inplace=True)\n",
        "\n",
        "# Перетворення колонок із числовими даними на float\n",
        "df.iloc[:, 1:] = df.iloc[:, 1:].apply(pd.to_numeric, errors='coerce')\n",
        "\n",
        "# Перегляд перших рядків таблиці\n",
        "print(\"Перші рядки таблиці:\")\n",
        "print(df.head())\n",
        "\n",
        "# Кількість рядків та стовпців\n",
        "print(\"Розмір таблиці:\", df.shape)\n",
        "\n",
        "# Частка пропусків у кожній колонці\n",
        "missing_data = df.isnull().mean() * 100\n",
        "print(\"Частка пропусків у кожному стовпці (%):\")\n",
        "print(missing_data)\n",
        "\n",
        "# Заповнення пропусків середніми значеннями\n",
        "for column in df.columns[1:]:\n",
        "    df[column].fillna(df[column].mean(), inplace=True)\n",
        "\n",
        "# Фільтрація регіонів, де рівень народжуваності у 2019 році вище середнього\n",
        "average_2019 = df[\"2019\"].mean()\n",
        "higher_birthrate_regions = df[df[\"2019\"] > average_2019]\n",
        "print(\"Регіони з народжуваністю у 2019 році вище середнього:\")\n",
        "print(higher_birthrate_regions)\n",
        "\n",
        "# Регіон із найвищою народжуваністю у 2014 році\n",
        "max_birthrate_region = df.loc[df[\"2014\"].idxmax()]\n",
        "print(\"Регіон із найвищою народжуваністю у 2014 році:\")\n",
        "print(max_birthrate_region)\n",
        "\n",
        "# Стовпчикова діаграма народжуваності по регіонах у 2019 році\n",
        "plt.figure(figsize=(12, 8))\n",
        "sns.barplot(x=\"Регіон\", y=\"2019\", data=df.sort_values(\"2019\", ascending=False))\n",
        "plt.title(\"Народжуваність по регіонах України у 2019 році\")\n",
        "plt.xticks(rotation=90)\n",
        "plt.ylabel(\"Народжуваність\")\n",
        "plt.xlabel(\"Регіон\")\n",
        "plt.tight_layout()\n",
        "plt.show()\n",
        "\n",
        "# Збереження очищених даних у CSV-файл\n",
        "df.to_csv(\"population_analysis.csv\", index=False)\n",
        "print(\"Дані збережено у файл population_analysis.csv\")"
      ]
    }
  ]
}